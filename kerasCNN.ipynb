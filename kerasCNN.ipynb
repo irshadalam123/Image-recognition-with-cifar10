{
 "cells": [
  {
   "cell_type": "code",
   "execution_count": 1,
   "metadata": {},
   "outputs": [],
   "source": [
    "import tensorflow\n",
    "from tensorflow.keras.models import Sequential\n",
    "from tensorflow.keras.layers import Dense, Dropout, Conv2D, MaxPooling2D, Flatten\n",
    "from tensorflow.keras.datasets import cifar10"
   ]
  },
  {
   "cell_type": "code",
   "execution_count": 3,
   "metadata": {},
   "outputs": [
    {
     "data": {
      "text/plain": [
       "array([[6],\n",
       "       [9],\n",
       "       [9],\n",
       "       ...,\n",
       "       [9],\n",
       "       [1],\n",
       "       [1]], dtype=uint8)"
      ]
     },
     "execution_count": 3,
     "metadata": {},
     "output_type": "execute_result"
    }
   ],
   "source": [
    "(x_train, y_train), (x_test, y_test) = cifar10.load_data()\n",
    "y_train"
   ]
  },
  {
   "cell_type": "markdown",
   "metadata": {},
   "source": [
    "# labels\n",
    "0: airplane,\n",
    "1: automobile,\n",
    "2: bird,\n",
    "3: cat,\n",
    "4: deer,\n",
    "5: dog,\n",
    "6: frog,\n",
    "7: horse,\n",
    "8: ship,\n",
    "9: truck,"
   ]
  },
  {
   "cell_type": "code",
   "execution_count": 4,
   "metadata": {},
   "outputs": [],
   "source": [
    "x_train = x_train.astype(\"float32\")\n",
    "x_test = x_test.astype(\"float32\")\n",
    "x_train /= 255.0\n",
    "x_test /= 255.0"
   ]
  },
  {
   "cell_type": "code",
   "execution_count": 5,
   "metadata": {},
   "outputs": [],
   "source": [
    "y_train = tensorflow.keras.utils.to_categorical(y_train, 10)\n",
    "y_test = tensorflow.keras.utils.to_categorical(y_test, 10)"
   ]
  },
  {
   "cell_type": "code",
   "execution_count": 6,
   "metadata": {},
   "outputs": [
    {
     "data": {
      "text/plain": [
       "(10000, 32, 32, 3)"
      ]
     },
     "execution_count": 6,
     "metadata": {},
     "output_type": "execute_result"
    }
   ],
   "source": [
    "x_test.shape"
   ]
  },
  {
   "cell_type": "code",
   "execution_count": 7,
   "metadata": {},
   "outputs": [
    {
     "data": {
      "text/plain": [
       "array([[0., 0., 0., ..., 0., 0., 0.],\n",
       "       [0., 0., 0., ..., 0., 0., 1.],\n",
       "       [0., 0., 0., ..., 0., 0., 1.],\n",
       "       ...,\n",
       "       [0., 0., 0., ..., 0., 0., 1.],\n",
       "       [0., 1., 0., ..., 0., 0., 0.],\n",
       "       [0., 1., 0., ..., 0., 0., 0.]], dtype=float32)"
      ]
     },
     "execution_count": 7,
     "metadata": {},
     "output_type": "execute_result"
    }
   ],
   "source": [
    "y_train"
   ]
  },
  {
   "cell_type": "code",
   "execution_count": 8,
   "metadata": {},
   "outputs": [
    {
     "data": {
      "text/plain": [
       "(50000, 10)"
      ]
     },
     "execution_count": 8,
     "metadata": {},
     "output_type": "execute_result"
    }
   ],
   "source": [
    "y_train.shape"
   ]
  },
  {
   "cell_type": "code",
   "execution_count": 9,
   "metadata": {},
   "outputs": [
    {
     "data": {
      "text/plain": [
       "array([[[0.92156863, 0.92156863, 0.92156863],\n",
       "        [0.90588236, 0.90588236, 0.90588236],\n",
       "        [0.9098039 , 0.9098039 , 0.9098039 ],\n",
       "        ...,\n",
       "        [0.9137255 , 0.9137255 , 0.9137255 ],\n",
       "        [0.9137255 , 0.9137255 , 0.9137255 ],\n",
       "        [0.9098039 , 0.9098039 , 0.9098039 ]],\n",
       "\n",
       "       [[0.93333334, 0.93333334, 0.93333334],\n",
       "        [0.92156863, 0.92156863, 0.92156863],\n",
       "        [0.92156863, 0.92156863, 0.92156863],\n",
       "        ...,\n",
       "        [0.9254902 , 0.9254902 , 0.9254902 ],\n",
       "        [0.9254902 , 0.9254902 , 0.9254902 ],\n",
       "        [0.92156863, 0.92156863, 0.92156863]],\n",
       "\n",
       "       [[0.92941177, 0.92941177, 0.92941177],\n",
       "        [0.91764706, 0.91764706, 0.91764706],\n",
       "        [0.91764706, 0.91764706, 0.91764706],\n",
       "        ...,\n",
       "        [0.92156863, 0.92156863, 0.92156863],\n",
       "        [0.92156863, 0.92156863, 0.92156863],\n",
       "        [0.91764706, 0.91764706, 0.91764706]],\n",
       "\n",
       "       ...,\n",
       "\n",
       "       [[0.34117648, 0.3882353 , 0.34901962],\n",
       "        [0.16862746, 0.2       , 0.14509805],\n",
       "        [0.07450981, 0.09019608, 0.04313726],\n",
       "        ...,\n",
       "        [0.6627451 , 0.72156864, 0.7019608 ],\n",
       "        [0.7137255 , 0.77254903, 0.75686276],\n",
       "        [0.7372549 , 0.7921569 , 0.7882353 ]],\n",
       "\n",
       "       [[0.32156864, 0.3764706 , 0.32156864],\n",
       "        [0.18039216, 0.22352941, 0.14117648],\n",
       "        [0.14117648, 0.17254902, 0.08627451],\n",
       "        ...,\n",
       "        [0.68235296, 0.7411765 , 0.7176471 ],\n",
       "        [0.7254902 , 0.78431374, 0.76862746],\n",
       "        [0.73333335, 0.7921569 , 0.78431374]],\n",
       "\n",
       "       [[0.33333334, 0.39607844, 0.3254902 ],\n",
       "        [0.24313726, 0.29411766, 0.1882353 ],\n",
       "        [0.22745098, 0.2627451 , 0.14901961],\n",
       "        ...,\n",
       "        [0.65882355, 0.7176471 , 0.69803923],\n",
       "        [0.7058824 , 0.7647059 , 0.7490196 ],\n",
       "        [0.7294118 , 0.78431374, 0.78039217]]], dtype=float32)"
      ]
     },
     "execution_count": 9,
     "metadata": {},
     "output_type": "execute_result"
    }
   ],
   "source": [
    "x_test[1]"
   ]
  },
  {
   "cell_type": "code",
   "execution_count": 10,
   "metadata": {},
   "outputs": [],
   "source": [
    "model = Sequential()"
   ]
  },
  {
   "cell_type": "code",
   "execution_count": 11,
   "metadata": {},
   "outputs": [
    {
     "name": "stdout",
     "output_type": "stream",
     "text": [
      "Model: \"sequential\"\n",
      "_________________________________________________________________\n",
      "Layer (type)                 Output Shape              Param #   \n",
      "=================================================================\n",
      "conv2d (Conv2D)              (None, 30, 30, 32)        896       \n",
      "_________________________________________________________________\n",
      "max_pooling2d (MaxPooling2D) (None, 15, 15, 32)        0         \n",
      "_________________________________________________________________\n",
      "conv2d_1 (Conv2D)            (None, 13, 13, 64)        18496     \n",
      "_________________________________________________________________\n",
      "max_pooling2d_1 (MaxPooling2 (None, 6, 6, 64)          0         \n",
      "_________________________________________________________________\n",
      "conv2d_2 (Conv2D)            (None, 4, 4, 128)         73856     \n",
      "_________________________________________________________________\n",
      "max_pooling2d_2 (MaxPooling2 (None, 2, 2, 128)         0         \n",
      "=================================================================\n",
      "Total params: 93,248\n",
      "Trainable params: 93,248\n",
      "Non-trainable params: 0\n",
      "_________________________________________________________________\n"
     ]
    }
   ],
   "source": [
    "model.add(Conv2D(32, (3,3), input_shape=(32, 32, 3), activation = \"relu\"))\n",
    "model.add(MaxPooling2D(pool_size = (2,2)))\n",
    "model.add(Conv2D(64, (3,3), activation=\"relu\"))\n",
    "\n",
    "model.add(MaxPooling2D(pool_size = (2,2)))\n",
    "model.add(Conv2D(128, (3,3), activation=\"relu\"))\n",
    "model.add(MaxPooling2D(pool_size=(2,2)))\n",
    "\n",
    "model.summary()"
   ]
  },
  {
   "cell_type": "code",
   "execution_count": 12,
   "metadata": {},
   "outputs": [],
   "source": [
    "model.add(Flatten())"
   ]
  },
  {
   "cell_type": "code",
   "execution_count": 13,
   "metadata": {},
   "outputs": [
    {
     "name": "stdout",
     "output_type": "stream",
     "text": [
      "Model: \"sequential\"\n",
      "_________________________________________________________________\n",
      "Layer (type)                 Output Shape              Param #   \n",
      "=================================================================\n",
      "conv2d (Conv2D)              (None, 30, 30, 32)        896       \n",
      "_________________________________________________________________\n",
      "max_pooling2d (MaxPooling2D) (None, 15, 15, 32)        0         \n",
      "_________________________________________________________________\n",
      "conv2d_1 (Conv2D)            (None, 13, 13, 64)        18496     \n",
      "_________________________________________________________________\n",
      "max_pooling2d_1 (MaxPooling2 (None, 6, 6, 64)          0         \n",
      "_________________________________________________________________\n",
      "conv2d_2 (Conv2D)            (None, 4, 4, 128)         73856     \n",
      "_________________________________________________________________\n",
      "max_pooling2d_2 (MaxPooling2 (None, 2, 2, 128)         0         \n",
      "_________________________________________________________________\n",
      "flatten (Flatten)            (None, 512)               0         \n",
      "_________________________________________________________________\n",
      "dense (Dense)                (None, 256)               131328    \n",
      "_________________________________________________________________\n",
      "dropout (Dropout)            (None, 256)               0         \n",
      "_________________________________________________________________\n",
      "dense_1 (Dense)              (None, 128)               32896     \n",
      "_________________________________________________________________\n",
      "dropout_1 (Dropout)          (None, 128)               0         \n",
      "_________________________________________________________________\n",
      "dense_2 (Dense)              (None, 10)                1290      \n",
      "=================================================================\n",
      "Total params: 258,762\n",
      "Trainable params: 258,762\n",
      "Non-trainable params: 0\n",
      "_________________________________________________________________\n"
     ]
    }
   ],
   "source": [
    "model.add(Dense(256, activation=\"relu\"))\n",
    "model.add(Dropout(0.2))\n",
    "model.add(Dense(128, activation=\"relu\"))\n",
    "model.add(Dropout(0.2))\n",
    "model.add(Dense(10, activation=\"softmax\"))\n",
    "\n",
    "model.summary()"
   ]
  },
  {
   "cell_type": "code",
   "execution_count": 14,
   "metadata": {},
   "outputs": [],
   "source": [
    "model.compile(loss=\"categorical_crossentropy\",\n",
    "             optimizer=\"adam\",\n",
    "             metrics=[\"accuracy\"])"
   ]
  },
  {
   "cell_type": "code",
   "execution_count": 15,
   "metadata": {},
   "outputs": [
    {
     "name": "stdout",
     "output_type": "stream",
     "text": [
      "Train on 50000 samples, validate on 10000 samples\n",
      "Epoch 1/10\n",
      "50000/50000 [==============================] - 15s 301us/sample - loss: 1.6713 - accuracy: 0.3786 - val_loss: 1.3636 - val_accuracy: 0.4939\n",
      "Epoch 2/10\n",
      "50000/50000 [==============================] - 8s 169us/sample - loss: 1.2662 - accuracy: 0.5456 - val_loss: 1.1390 - val_accuracy: 0.5918\n",
      "Epoch 3/10\n",
      "50000/50000 [==============================] - 9s 172us/sample - loss: 1.0855 - accuracy: 0.6162 - val_loss: 1.0529 - val_accuracy: 0.6276\n",
      "Epoch 4/10\n",
      "50000/50000 [==============================] - 9s 186us/sample - loss: 0.9476 - accuracy: 0.6675 - val_loss: 0.9563 - val_accuracy: 0.6616\n",
      "Epoch 5/10\n",
      "50000/50000 [==============================] - 9s 172us/sample - loss: 0.8698 - accuracy: 0.6984 - val_loss: 0.8875 - val_accuracy: 0.6879\n",
      "Epoch 6/10\n",
      "50000/50000 [==============================] - 9s 173us/sample - loss: 0.8000 - accuracy: 0.7207 - val_loss: 0.8833 - val_accuracy: 0.6926\n",
      "Epoch 7/10\n",
      "50000/50000 [==============================] - 9s 182us/sample - loss: 0.7313 - accuracy: 0.7442 - val_loss: 0.8368 - val_accuracy: 0.7127\n",
      "Epoch 8/10\n",
      "50000/50000 [==============================] - 9s 174us/sample - loss: 0.6872 - accuracy: 0.7594 - val_loss: 0.8233 - val_accuracy: 0.7229\n",
      "Epoch 9/10\n",
      "50000/50000 [==============================] - 8s 160us/sample - loss: 0.6382 - accuracy: 0.7766 - val_loss: 0.8186 - val_accuracy: 0.7277\n",
      "Epoch 10/10\n",
      "50000/50000 [==============================] - 10s 200us/sample - loss: 0.5926 - accuracy: 0.7920 - val_loss: 0.8704 - val_accuracy: 0.7190\n"
     ]
    }
   ],
   "source": [
    "history = model.fit(x_train, y_train,\n",
    "                   batch_size = 100,\n",
    "                   epochs = 10,\n",
    "                   validation_data = (x_test, y_test))"
   ]
  },
  {
   "cell_type": "code",
   "execution_count": 16,
   "metadata": {},
   "outputs": [
    {
     "name": "stdout",
     "output_type": "stream",
     "text": [
      "Accuracy: 71.90% \n"
     ]
    }
   ],
   "source": [
    "score = model.evaluate(x_test,y_test, verbose=0)\n",
    "print(\"Accuracy: %.2f%% \"% (score[1]*100))"
   ]
  },
  {
   "cell_type": "code",
   "execution_count": 17,
   "metadata": {},
   "outputs": [],
   "source": [
    "import matplotlib.pyplot as plt"
   ]
  },
  {
   "cell_type": "code",
   "execution_count": 24,
   "metadata": {},
   "outputs": [
    {
     "data": {
      "text/plain": [
       "<matplotlib.image.AxesImage at 0x2dd57a95cc8>"
      ]
     },
     "execution_count": 24,
     "metadata": {},
     "output_type": "execute_result"
    },
    {
     "data": {
      "image/png": "[encoded data removed]",
      "text/plain": [
       "<Figure size 432x288 with 1 Axes>"
      ]
     },
     "metadata": {
      "needs_background": "light"
     },
     "output_type": "display_data"
    }
   ],
   "source": [
    "images = x_test[1].reshape(1,3072)\n",
    "plt.imshow(images.reshape([32,32,3]), cmap = plt.get_cmap(\"gray_r\") )"
   ]
  },
  {
   "cell_type": "code",
   "execution_count": 25,
   "metadata": {},
   "outputs": [],
   "source": [
    "output = model.predict(x_test[1].reshape(1,32,32,3)).argmax()"
   ]
  },
  {
   "cell_type": "code",
   "execution_count": 26,
   "metadata": {},
   "outputs": [
    {
     "data": {
      "text/plain": [
       "8"
      ]
     },
     "execution_count": 26,
     "metadata": {},
     "output_type": "execute_result"
    }
   ],
   "source": [
    "output"
   ]
  },
  {
   "cell_type": "code",
   "execution_count": 50,
   "metadata": {},
   "outputs": [],
   "source": [
    "import cv2\n",
    "\n",
    "img = cv2.imread('dog.jpg')\n",
    "\n",
    "img = cv2.resize(img, (32,32))\n",
    "cv2.imshow('image', img)\n",
    "cv2.waitKey(0)\n",
    "cv2.destroyAllWindows()"
   ]
  },
  {
   "cell_type": "code",
   "execution_count": 54,
   "metadata": {},
   "outputs": [],
   "source": [
    "img = img/255"
   ]
  },
  {
   "cell_type": "code",
   "execution_count": 55,
   "metadata": {},
   "outputs": [],
   "source": [
    "out = model.predict(img.reshape(1,32,32,3))"
   ]
  },
  {
   "cell_type": "code",
   "execution_count": 56,
   "metadata": {},
   "outputs": [
    {
     "data": {
      "text/plain": [
       "3"
      ]
     },
     "execution_count": 56,
     "metadata": {},
     "output_type": "execute_result"
    }
   ],
   "source": [
    "out.argmax()"
   ]
  },
  {
   "cell_type": "code",
   "execution_count": 58,
   "metadata": {},
   "outputs": [],
   "source": [
    "# model.save('model')"
   ]
  },
  {
   "cell_type": "code",
   "execution_count": null,
   "metadata": {},
   "outputs": [],
   "source": []
  }
 ],
 "metadata": {
  "kernelspec": {
   "display_name": "Python 3",
   "language": "python",
   "name": "python3"
  },
  "language_info": {
   "codemirror_mode": {
    "name": "ipython",
    "version": 3
   },
   "file_extension": ".py",
   "mimetype": "text/x-python",
   "name": "python",
   "nbconvert_exporter": "python",
   "pygments_lexer": "ipython3",
   "version": "3.7.4"
  }
 },
 "nbformat": 4,
 "nbformat_minor": 2
}
